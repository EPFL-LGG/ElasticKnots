{
 "cells": [
  {
   "cell_type": "code",
   "execution_count": null,
   "id": "8f1f635f-06f7-44b0-b4b4-1e69618306c1",
   "metadata": {},
   "outputs": [],
   "source": [
    "import sys; sys.path.append('../3rdparty/ElasticRods/python')\n",
    "\n",
    "import elastic_rods, elastic_knots\n",
    "from linkage_vis import LinkageViewer as Viewer\n",
    "import numpy as np, matplotlib.pyplot as plt, matplotlib, os, json\n",
    "\n",
    "from helpers import *\n",
    "\n",
    "%load_ext autoreload\n",
    "%autoreload 2"
   ]
  },
  {
   "cell_type": "code",
   "execution_count": null,
   "id": "68eac893-2ef6-4eb0-bac2-1021ec887183",
   "metadata": {},
   "outputs": [],
   "source": [
    "# Download the sample dataset (equilibrium states of knots with up to 9 crossings)\n",
    "# The same data can also be downloaded manually from \n",
    "# https://drive.google.com/file/d/1mwGCbWD8-Ftku5eLRwOAuvM-NGCqdXfg/\n",
    "root_dir = '../data/'\n",
    "data_dir = 'L400-r0.2-UpTo9Crossings'\n",
    "\n",
    "zip_file = data_dir + '.zip'\n",
    "download_data(\n",
    "    gdrive_id='1mwGCbWD8-Ftku5eLRwOAuvM-NGCqdXfg',\n",
    "    output_dir=root_dir,\n",
    "    zip_file=zip_file\n",
    ")"
   ]
  },
  {
   "cell_type": "markdown",
   "id": "7b209c9a-1d6d-4e5a-acd3-240953bc71ca",
   "metadata": {},
   "source": [
    "# Analysis of the simulation results"
   ]
  },
  {
   "cell_type": "code",
   "execution_count": null,
   "id": "4a620ce9-fb9e-4326-9c06-7d4904cfca30",
   "metadata": {},
   "outputs": [],
   "source": [
    "# Load the KnotInfo knot table (see https://knotinfo.math.indiana.edu for more details)\n",
    "knot_data = load_knot_table()\n",
    "knot_data.head(3)"
   ]
  },
  {
   "cell_type": "code",
   "execution_count": null,
   "id": "993f6857-5466-4d73-b840-6a4db229360d",
   "metadata": {},
   "outputs": [],
   "source": [
    "# Load the attributes of the computed equilibrium states\n",
    "import pandas as pd\n",
    "\n",
    "eq_data = pd.DataFrame(columns=[\n",
    "    'knot_type',\n",
    "    'eq_id',\n",
    "    'energy',\n",
    "    'energy_bend',\n",
    "    'energy_twist',\n",
    "    'energy_stretch',\n",
    "    'max_bend_stress',\n",
    "    'total_curvature',\n",
    "    'threedim',\n",
    "    'spher_dev',\n",
    "    'diameter',\n",
    "    'writhe',\n",
    "    'twist',\n",
    "    'length_pc0',\n",
    "    'length_pc1',\n",
    "    'length_pc2',\n",
    "    'lambda_7',\n",
    "    'c_hull_area',\n",
    "    'c_hull_volume',\n",
    "])\n",
    "\n",
    "data_path = root_dir + '{}/'.format(data_dir)\n",
    "knot_types = [kt for kt in sorted_nicely(os.listdir(data_path)) if not kt == 'README.md']\n",
    "for kt in knot_types:\n",
    "    stats_path = data_path + '{}/'.format(kt) + 'stats.json'\n",
    "    \n",
    "    eq_data_curr_knot = pd.read_json(stats_path, dtype='float')\n",
    "    eq_data_curr_knot.insert(0, 'eq_id', np.arange(eq_data_curr_knot.shape[0]))  # serial corrseponding to the .obj file\n",
    "    eq_data_curr_knot.insert(0, 'knot_type', kt)\n",
    "    \n",
    "    eq_data = pd.concat([eq_data, eq_data_curr_knot], ignore_index=True)\n",
    "    \n",
    "eq_data[eq_data.columns[1:]] = eq_data[eq_data.columns[1:]].apply(pd.to_numeric)  # cast values to float\n",
    "print(\"Attributes of {} equilibrium states have been loaded\".format(eq_data.shape[0]))"
   ]
  },
  {
   "cell_type": "code",
   "execution_count": null,
   "id": "d6b7b675-1c8a-429e-80f4-8e12289cbcda",
   "metadata": {},
   "outputs": [],
   "source": [
    "eq_data.head(3)"
   ]
  },
  {
   "cell_type": "code",
   "execution_count": null,
   "id": "125d910f-a4da-4803-b192-e13983874a98",
   "metadata": {},
   "outputs": [],
   "source": [
    "eq_data.tail(3)"
   ]
  },
  {
   "cell_type": "markdown",
   "id": "b7640430-7908-455d-9a4a-c6c83d4586c6",
   "metadata": {},
   "source": [
    "### Filter and sort equilibria by attribute"
   ]
  },
  {
   "cell_type": "code",
   "execution_count": null,
   "id": "2575a4fb-2b33-477a-8126-f3d42feb938b",
   "metadata": {},
   "outputs": [],
   "source": [
    "def sort_knot_types_by_attribute(df, attribute, minimum=True, n_max=9):\n",
    "    \"Get the equilibrium states with max/min value of the given attribute (select at most one state per knot type).\"\n",
    "    \n",
    "    if minimum:\n",
    "        return df.loc[df.groupby('knot_type')[attribute].idxmin()].sort_values(by=attribute, ascending=minimum).iloc[0:n_max]\n",
    "    else:\n",
    "        return df.loc[df.groupby('knot_type')[attribute].idxmax()].sort_values(by=attribute, ascending=minimum).iloc[0:n_max]"
   ]
  },
  {
   "cell_type": "code",
   "execution_count": null,
   "id": "9211bbe9-b395-4954-90fb-8df8437ccdd7",
   "metadata": {},
   "outputs": [],
   "source": [
    "rod_radius = 0.2\n",
    "material = elastic_rods.RodMaterial('ellipse', 2000, 0.3, [rod_radius, rod_radius])"
   ]
  },
  {
   "cell_type": "code",
   "execution_count": null,
   "id": "e93173dc-4cb4-4184-8427-519061af25d6",
   "metadata": {},
   "outputs": [],
   "source": [
    "# Equilibria with the lowest energy\n",
    "df = sort_knot_types_by_attribute(eq_data, 'energy', minimum=True)\n",
    "rods = load_rods_from_dataframe(df, data_path=data_path, material=material)\n",
    "\n",
    "view_energy = Viewer(rods, width=1024, height=640)\n",
    "view_energy.show()"
   ]
  },
  {
   "cell_type": "code",
   "execution_count": null,
   "id": "164474d9-2eae-4250-ad46-c310ed13c313",
   "metadata": {},
   "outputs": [],
   "source": [
    "# Equilibria with the largest three-dimensionality score\n",
    "df = sort_knot_types_by_attribute(eq_data, 'threedim', minimum=False, n_max=1)\n",
    "rods = load_rods_from_dataframe(df, data_path=data_path, material=material)\n",
    "\n",
    "view_threedim_high = Viewer(rods, width=1024, height=640)\n",
    "view_threedim_high.show()"
   ]
  },
  {
   "cell_type": "code",
   "execution_count": null,
   "id": "c3e8e109-6fbd-4894-be93-d749a4cb9391",
   "metadata": {},
   "outputs": [],
   "source": [
    "# Equilibria with the smallest three-dimensionality score\n",
    "df = sort_knot_types_by_attribute(eq_data, 'threedim', minimum=True)\n",
    "rods = load_rods_from_dataframe(df, data_path=data_path, material=material)\n",
    "\n",
    "view_threedim_low = Viewer(rods, width=1024, height=640)\n",
    "view_threedim_low.show()"
   ]
  },
  {
   "cell_type": "markdown",
   "id": "9c0d69db-d6a9-409c-a22a-d25aaad4bc6c",
   "metadata": {},
   "source": [
    "### Milnor's bound\n",
    "Check that, for any non-trivial knot, \n",
    "$$\n",
    "\\int_0^L \\kappa > 2 \\pi \\text{b},\n",
    "$$\n",
    "\n",
    "where $\\kappa = \\Vert \\mathbf{x}'' \\Vert$ is the local curvature of the centerline curve $\\mathbf{x}$, and $\\text{b}$ is the bridge index of the corresponding knot type (see [[Milnor 1950]](https://www.jstor.org/stable/1969467)).\n",
    "\n",
    "In case the bridge index of the knot type coincides with its bridge index (BB knots, see [[Diao et al. 2021]](https://arxiv.org/abs/2108.11790)), the global energy minimizer is known to be a multi-covered circle."
   ]
  },
  {
   "cell_type": "code",
   "execution_count": null,
   "id": "fde7e717-56cb-4a5e-967c-79b08c0f3adb",
   "metadata": {},
   "outputs": [],
   "source": [
    "# Fetch bridge and braid indices from the knot table and check if knot type is BB\n",
    "eq_data_milnor = eq_data.merge(\n",
    "    knot_data[['Name', 'Bridge Index', 'Braid Index']], \n",
    "    left_on='knot_type', right_on='Name'\n",
    ").drop('Name', axis=1)\n",
    "eq_data_milnor = eq_data_milnor.rename(columns={'Bridge Index': 'bridge_index','Braid Index': 'braid_index'})\n",
    "eq_data_milnor['is_bb'] = (eq_data_milnor['bridge_index'] == eq_data_milnor['braid_index'])\n",
    "\n",
    "# Compute the \"Milnor's distance\",\n",
    "# i.e. the ratio between the integrated curvature \n",
    "# and 2pi times the bridge index: it should always be > 1\n",
    "eq_data_milnor['milnor_dist'] = eq_data_milnor['total_curvature'] / (2*np.pi*eq_data_milnor['bridge_index'])"
   ]
  },
  {
   "cell_type": "code",
   "execution_count": null,
   "id": "0d480867-8c2d-4cae-9a13-4fc68fd08392",
   "metadata": {},
   "outputs": [],
   "source": [
    "# For each knot type, selected the equilibrium state with the lowest total curvature\n",
    "df_min_tot_curv = eq_data_milnor.loc[eq_data_milnor.groupby('knot_type').total_curvature.idxmin()]\n",
    "md = df_min_tot_curv.milnor_dist.values\n",
    "md_bb = df_min_tot_curv.milnor_dist[df_min_tot_curv.is_bb].values\n",
    "md_not_bb = df_min_tot_curv.milnor_dist[~df_min_tot_curv.is_bb].values\n",
    "n_bb = md_bb.size\n",
    "n_not_bb = md_not_bb.size\n",
    "\n",
    "# Plot histogram of Milnor's distances\n",
    "fig, ax = plt.subplots()\n",
    "cmap = matplotlib.cm.get_cmap('Blues')\n",
    "blue_dark, blue, blue_light = cmap(0.9), cmap(0.6), cmap(0.2)\n",
    "\n",
    "fig_dummy, ax_dummy = plt.subplots()\n",
    "nbins = 40\n",
    "hist_not_bb = ax_dummy.hist(md_not_bb, bins=np.linspace(np.min(md_not_bb), np.max(md_not_bb), nbins))\n",
    "bins_hist_not_bb = hist_not_bb[1]\n",
    "plt.close()\n",
    "\n",
    "md_not_bb_bin1 = md_not_bb[md_not_bb <= bins_hist_not_bb[2]]\n",
    "md_not_bb_bin2 = md_not_bb[md_not_bb > bins_hist_not_bb[-2]]\n",
    "ax.hist(md_not_bb, bins=np.linspace(np.min(md_not_bb), np.max(md_not_bb), nbins), color=blue, label='Non-BB knot types ({})'.format(n_not_bb))\n",
    "ax.hist(md_not_bb_bin2, bins=bins_hist_not_bb[-2:], color=blue_dark)\n",
    "ax.hist(md_not_bb_bin1, bins=bins_hist_not_bb[0:2], color=blue_light)\n",
    "ax.hist(md_bb, bins=[1, np.sort(md_bb)[-1]+1e-8, bins_hist_not_bb[0], bins_hist_not_bb[1]], color='C1', label='BB knot types ({})'.format(n_bb))\n",
    "ax.legend()\n",
    "ax.set_xlabel('$\\int_0^L \\kappa / 2 \\pi b$')\n",
    "ax.set_ylabel('Knot types count')\n",
    "ax.set_title('Milnor\\'s Distance Distribution')\n",
    "plt.show()"
   ]
  },
  {
   "cell_type": "code",
   "execution_count": null,
   "id": "0b5596b8-e928-444e-ace3-ead33846dcbb",
   "metadata": {},
   "outputs": [],
   "source": [
    "# Select the knots to display from the dataset\n",
    "df_bb = df_min_tot_curv[df_min_tot_curv.is_bb]\n",
    "df_not_bb_1 = df_min_tot_curv[(~df_min_tot_curv.is_bb) & (df_min_tot_curv.milnor_dist < bins_hist_not_bb[ 1])].sort_values(by='milnor_dist')  # light blue\n",
    "df_not_bb_2 = df_min_tot_curv[(~df_min_tot_curv.is_bb) & (df_min_tot_curv.milnor_dist > bins_hist_not_bb[-2])].sort_values(by='milnor_dist')  # dark blue\n",
    "\n",
    "# Load the corresponding elastic rods\n",
    "rod_radius = 0.2\n",
    "material = elastic_rods.RodMaterial('ellipse', 2000, 0.3, [rod_radius, rod_radius])\n",
    "rods_bb = load_rods_from_dataframe(df_bb, data_path=data_path, material=material)\n",
    "rods_not_bb_1 = load_rods_from_dataframe(df_not_bb_1, data_path=data_path, material=material)\n",
    "rods_not_bb_2 = load_rods_from_dataframe(df_not_bb_2, data_path=data_path, material=material)"
   ]
  },
  {
   "cell_type": "code",
   "execution_count": null,
   "id": "4018eca9-c221-450a-bdf2-1e0577c49439",
   "metadata": {},
   "outputs": [],
   "source": [
    "# BB knots\n",
    "print(df_bb[['knot_type', 'milnor_dist']].to_string(index=False))\n",
    "view_bb = Viewer(rods_bb, width=1024, height=640)\n",
    "view_bb.show()"
   ]
  },
  {
   "cell_type": "code",
   "execution_count": null,
   "id": "c6864c82-16f9-4e80-990e-6be7d5d8f0f6",
   "metadata": {},
   "outputs": [],
   "source": [
    "# Non-BB knots with the smallest Milnor's distance\n",
    "print(df_not_bb_1[['knot_type', 'milnor_dist']].to_string(index=False))\n",
    "view_not_bb_1 = Viewer(rods_not_bb_1, width=1024, height=640)\n",
    "view_not_bb_1.show()"
   ]
  },
  {
   "cell_type": "code",
   "execution_count": null,
   "id": "64f04f57-f623-4852-ac9c-5c75d09febce",
   "metadata": {},
   "outputs": [],
   "source": [
    "# Non-BB knots with the largest Milnor's distance\n",
    "print(df_not_bb_2[['knot_type', 'milnor_dist']].to_string(index=False))\n",
    "view_not_bb_2 = Viewer(rods_not_bb_2, width=1024, height=640)\n",
    "view_not_bb_2.show()"
   ]
  },
  {
   "cell_type": "code",
   "execution_count": null,
   "id": "114acc47-4c90-47e5-a3fe-6a6c2c5e6c3b",
   "metadata": {},
   "outputs": [],
   "source": []
  }
 ],
 "metadata": {
  "kernelspec": {
   "display_name": "Python 3",
   "language": "python",
   "name": "python3"
  },
  "language_info": {
   "codemirror_mode": {
    "name": "ipython",
    "version": 3
   },
   "file_extension": ".py",
   "mimetype": "text/x-python",
   "name": "python",
   "nbconvert_exporter": "python",
   "pygments_lexer": "ipython3",
   "version": "3.9.17"
  }
 },
 "nbformat": 4,
 "nbformat_minor": 5
}
