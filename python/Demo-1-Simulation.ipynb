{
 "cells": [
  {
   "cell_type": "code",
   "execution_count": null,
   "metadata": {
    "tags": []
   },
   "outputs": [],
   "source": [
    "import sys; sys.path.append('../3rdparty/ElasticRods/python')\n",
    "import elastic_rods, elastic_knots\n",
    "import numpy as np, matplotlib.pyplot as plt, time, io, os\n",
    "\n",
    "from helpers import *\n",
    "from parametric_curves import *\n",
    "import py_newton_optimizer\n",
    "\n",
    "from linkage_vis import LinkageViewer as Viewer, CenterlineViewer\n",
    "from tri_mesh_viewer import PointCloudViewer, PointCloudMesh\n",
    "\n",
    "%load_ext autoreload\n",
    "%autoreload 2"
   ]
  },
  {
   "cell_type": "code",
   "execution_count": null,
   "metadata": {},
   "outputs": [],
   "source": [
    "import parallelism\n",
    "parallelism.set_max_num_tbb_threads(1)"
   ]
  },
  {
   "cell_type": "markdown",
   "metadata": {},
   "source": [
    " - [Compute equilibria of **twist-free** knots](#sec:twist_free)\n",
    " - [Compute equilibria of **constant-link** knots](#sec:constant_link)"
   ]
  },
  {
   "cell_type": "markdown",
   "metadata": {
    "tags": []
   },
   "source": [
    "----\n",
    "<a id='sec:twist_free'></a>\n",
    "# Compute the equilibium state of a **twist-free** knotted elastic rod"
   ]
  },
  {
   "cell_type": "markdown",
   "metadata": {
    "tags": []
   },
   "source": [
    "### Select a knot"
   ]
  },
  {
   "cell_type": "code",
   "execution_count": null,
   "metadata": {},
   "outputs": [],
   "source": [
    "# Load the centerline from file...\n",
    "file = '../data/4_1-smooth.obj'\n",
    "\n",
    "rod_radius = 0.2\n",
    "material = elastic_rods.RodMaterial('ellipse', 2000, 0.3, [rod_radius, rod_radius])\n",
    "centerline = read_nodes_from_file(file)  # supported formats: obj, txt\n",
    "\n",
    "pr = define_periodic_rod(centerline, material)\n",
    "rod_list = elastic_knots.PeriodicRodList([pr])"
   ]
  },
  {
   "cell_type": "code",
   "execution_count": null,
   "metadata": {},
   "outputs": [],
   "source": [
    "# ...or generate a parametric knot\n",
    "p, q, a, r = 2, 3, 2, 4\n",
    "rod_radius = 0.2\n",
    "\n",
    "material = elastic_rods.RodMaterial('ellipse', 2000, 0.3, [rod_radius, rod_radius])\n",
    "centerline = generate_curve(torus_knot(p=p, q=q, a=a, r=r), npts=102)\n",
    "pr = define_periodic_rod(centerline, material)\n",
    "rod_list = elastic_knots.PeriodicRodList([pr])"
   ]
  },
  {
   "cell_type": "markdown",
   "metadata": {},
   "source": [
    "### Viewer"
   ]
  },
  {
   "cell_type": "code",
   "execution_count": null,
   "metadata": {
    "tags": []
   },
   "outputs": [],
   "source": [
    "view = Viewer(rod_list, width=1024, height=640)\n",
    "view.show()"
   ]
  },
  {
   "cell_type": "markdown",
   "metadata": {},
   "source": [
    "### Equilibrium solve"
   ]
  },
  {
   "cell_type": "code",
   "execution_count": null,
   "metadata": {},
   "outputs": [],
   "source": [
    "def callback(problem, iteration):\n",
    "    if iteration % 5 == 0:\n",
    "        view.update()\n",
    "        \n",
    "optimizerOptions = py_newton_optimizer.NewtonOptimizerOptions()\n",
    "optimizerOptions.niter = 1000\n",
    "optimizerOptions.gradTol = 1e-8\n",
    "hessianShift = 1e-4 * compute_min_eigenval_straight_rod(pr)\n",
    "\n",
    "problemOptions = elastic_knots.ContactProblemOptions()\n",
    "problemOptions.contactStiffness = 1e3\n",
    "problemOptions.dHat = 2*rod_radius\n",
    "\n",
    "fixedVars = []   # all the degrees of freedom can be modified by the optimizer"
   ]
  },
  {
   "cell_type": "code",
   "execution_count": null,
   "metadata": {
    "scrolled": true,
    "tags": []
   },
   "outputs": [],
   "source": [
    "# Optimize\n",
    "report = elastic_knots.compute_equilibrium(\n",
    "    rod_list, problemOptions, optimizerOptions, \n",
    "    fixedVars=fixedVars,\n",
    "    externalForces=np.zeros(rod_list.numDoF()),\n",
    "    softConstraints=[],\n",
    "    callback=callback,\n",
    "    hessianShift=hessianShift\n",
    ")\n",
    "view.update()"
   ]
  },
  {
   "cell_type": "markdown",
   "metadata": {},
   "source": [
    "### Save result to file"
   ]
  },
  {
   "cell_type": "code",
   "execution_count": null,
   "metadata": {},
   "outputs": [],
   "source": [
    "from helpers import write_obj\n",
    "file = '../data/output.obj'\n",
    "write_obj(file, rod_list)"
   ]
  },
  {
   "cell_type": "markdown",
   "metadata": {
    "tags": []
   },
   "source": [
    "### Modal analysis"
   ]
  },
  {
   "cell_type": "code",
   "execution_count": null,
   "metadata": {},
   "outputs": [],
   "source": [
    "from helpers import vibrational_analysis\n",
    "fixedVars = []\n",
    "problemOptions.projectContactHessianPSD = False\n",
    "lambdas, modes = vibrational_analysis(rod_list, problemOptions, optimizerOptions, n_modes=10, fixedVars=fixedVars)"
   ]
  },
  {
   "cell_type": "code",
   "execution_count": null,
   "metadata": {
    "tags": []
   },
   "outputs": [],
   "source": [
    "# Visualize vibrational modes\n",
    "import mode_viewer\n",
    "ndof = rod_list.numDoF()\n",
    "amplitude = pr.restLength() / 20\n",
    "mview = mode_viewer.ModeViewer(rod_list, modes[0:ndof, :], lambdas, amplitude=amplitude, width=1024, height=640)\n",
    "mview.show()"
   ]
  },
  {
   "cell_type": "markdown",
   "metadata": {},
   "source": [
    "Select **Mode 7** to visualize the first mode associated to a non-zero eigenvalue"
   ]
  },
  {
   "cell_type": "markdown",
   "metadata": {
    "tags": []
   },
   "source": [
    "----\n",
    "<a id='sec:constant_link'></a>\n",
    "# Compute the equilibium state of a knotted elastic rod with **prescribed Link**"
   ]
  },
  {
   "cell_type": "code",
   "execution_count": null,
   "metadata": {},
   "outputs": [],
   "source": [
    "import vis, matplotlib\n",
    "from linkage_vis import CenterlineMesh\n",
    "\n",
    "def update_material_frame(viewer, pr):\n",
    "    dc = pr.rod.deformedConfiguration()\n",
    "    frameArray = np.array([d.d2 for d in dc.materialFrame])\n",
    "    vmin, vmax = 0, 1.4  # yellow frame\n",
    "    frame = vis.fields.VectorField(viewer.mesh, frameArray, vmin=vmin, vmax=vmax, colormap=matplotlib.cm.jet, glyph=vis.fields.VectorGlyph.CYLINDER)\n",
    "    viewer.update(mesh=CenterlineMesh(pr.rod), vectorField=frame)\n",
    "    \n",
    "\n",
    "def compute_calugareanu_quantities(pr):\n",
    "    \"\"\"\n",
    "    Compute quantities appearing in Calugareanu's theorem:\n",
    "    Lk + \\Phi / 2\\pi = Tw + Wr\n",
    "    \"\"\"\n",
    "    Lk = pr.link()\n",
    "    Phi = pr.openingAngle()   # in [0, 2pi]\n",
    "    Tw = pr.twist()\n",
    "    Wr = pr.writhe()\n",
    "    \n",
    "    return Lk, Phi, Tw, Wr\n",
    "\n",
    "\n",
    "def callback(problem, iteration):\n",
    "    if iteration % 5 == 0:\n",
    "        update_material_frame(view_framed_mat, rod_list[0])\n",
    "        view_framed.update()"
   ]
  },
  {
   "cell_type": "code",
   "execution_count": null,
   "metadata": {},
   "outputs": [],
   "source": [
    "# Generate knot\n",
    "p, q, a, r = 2, 3, 2, 4\n",
    "rod_radius = 0.2\n",
    "\n",
    "material = elastic_rods.RodMaterial('ellipse', 2000, 0.3, [rod_radius, rod_radius])\n",
    "centerline = generate_curve(torus_knot(p=p, q=q, a=a, r=r), npts=202)\n",
    "pr = define_periodic_rod(centerline, material)\n",
    "dc = pr.rod.deformedConfiguration()\n",
    "rod_list = elastic_knots.PeriodicRodList([pr])"
   ]
  },
  {
   "cell_type": "code",
   "execution_count": null,
   "metadata": {},
   "outputs": [],
   "source": [
    "view_framed = Viewer(pr.rod, width=1024, height=640)\n",
    "view_framed_mat = CenterlineViewer(pr.rod, superView=view_framed)\n",
    "\n",
    "update_material_frame(view_framed_mat, pr)\n",
    "view_framed.show()"
   ]
  },
  {
   "cell_type": "markdown",
   "metadata": {},
   "source": [
    "The yellow material frame represents the orientation of the cross-section"
   ]
  },
  {
   "cell_type": "code",
   "execution_count": null,
   "metadata": {},
   "outputs": [],
   "source": [
    "# Set the (generalized) linking number of the framed curve Lk + \\Phi / 2\\pi \\in R^3\n",
    "gen_link = -5.8\n",
    "\n",
    "pr = set_generalized_link(pr, gen_link)\n",
    "Lk_start, Phi_start, Tw_start, Wr_start = compute_calugareanu_quantities(pr)\n",
    "rod_list = elastic_knots.PeriodicRodList(pr)\n",
    "\n",
    "# Update the material frame in the viewer\n",
    "update_material_frame(view_framed_mat, pr)\n",
    "view_framed.update(mesh=rod_list)"
   ]
  },
  {
   "cell_type": "code",
   "execution_count": null,
   "metadata": {},
   "outputs": [],
   "source": [
    "optimizerOptions = py_newton_optimizer.NewtonOptimizerOptions()\n",
    "optimizerOptions.niter = 1000\n",
    "optimizerOptions.gradTol = 1e-8\n",
    "hessianShift = 1e-4 * compute_min_eigenval_straight_rod(pr)\n",
    "\n",
    "problemOptions = elastic_knots.ContactProblemOptions()\n",
    "problemOptions.contactStiffness = 1e3\n",
    "problemOptions.dHat = 2*rod_radius\n",
    "\n",
    "fixedVars = [pr.thetaOffset(), pr.numDoF()-1]  # pin \\theta_0 and \\Theta (== totalOpeningAngle) to preserve the Link"
   ]
  },
  {
   "cell_type": "code",
   "execution_count": null,
   "metadata": {
    "scrolled": true,
    "tags": []
   },
   "outputs": [],
   "source": [
    "# Optimize\n",
    "report = elastic_knots.compute_equilibrium(\n",
    "    rod_list, problemOptions, optimizerOptions, \n",
    "    fixedVars=fixedVars,\n",
    "    externalForces=np.zeros(rod_list.numDoF()),\n",
    "    softConstraints=[],\n",
    "    callback=callback,\n",
    "    hessianShift=hessianShift\n",
    ")\n",
    "view_framed.update()"
   ]
  },
  {
   "cell_type": "markdown",
   "metadata": {},
   "source": [
    "### Check Călugăreanu's Theorem"
   ]
  },
  {
   "cell_type": "code",
   "execution_count": null,
   "metadata": {},
   "outputs": [],
   "source": [
    "pr = rod_list[0]\n",
    "Lk_end, Phi_end, Tw_end, Wr_end = compute_calugareanu_quantities(pr)"
   ]
  },
  {
   "cell_type": "code",
   "execution_count": null,
   "metadata": {},
   "outputs": [],
   "source": [
    "from prettytable import PrettyTable\n",
    "\n",
    "RED, GREEN, END = '\\033[91m', '\\033[92m', '\\033[0m'\n",
    "rows = [\n",
    "    ['Start', Lk_start, Phi_start/(2*np.pi), RED+str(Tw_start)+END, RED+str(Wr_start)+END, Lk_start + Phi_start/(2*np.pi), GREEN+str(Tw_start + Wr_start)+END], \n",
    "    ['End',   Lk_end,   Phi_end/(2*np.pi),   RED+str(Tw_end)+END,   RED+str(Wr_end)+END,   Lk_end + Phi_end/(2*np.pi),     GREEN+str(Tw_end + Wr_end)+END    ]\n",
    "]\n",
    "tab = PrettyTable(['', 'Link', 'Phi/2pi', 'Twist', 'Writhe', 'Link + Phi/2pi', 'Twist + Writhe'])\n",
    "tab.float_format = '.3'\n",
    "tab.add_rows(rows)\n",
    "print(tab)"
   ]
  },
  {
   "cell_type": "markdown",
   "metadata": {},
   "source": [
    "Twist gets traded for writhe during the optimization. Their sum stays constant."
   ]
  },
  {
   "cell_type": "code",
   "execution_count": null,
   "metadata": {},
   "outputs": [],
   "source": []
  }
 ],
 "metadata": {
  "kernelspec": {
   "display_name": "Python 3",
   "language": "python",
   "name": "python3"
  },
  "language_info": {
   "codemirror_mode": {
    "name": "ipython",
    "version": 3
   },
   "file_extension": ".py",
   "mimetype": "text/x-python",
   "name": "python",
   "nbconvert_exporter": "python",
   "pygments_lexer": "ipython3",
   "version": "3.10.4"
  }
 },
 "nbformat": 4,
 "nbformat_minor": 4
}
