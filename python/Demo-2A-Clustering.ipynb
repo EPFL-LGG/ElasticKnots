{
 "cells": [
  {
   "cell_type": "code",
   "execution_count": null,
   "id": "8f1f635f-06f7-44b0-b4b4-1e69618306c1",
   "metadata": {},
   "outputs": [],
   "source": [
    "import sys; sys.path.append('../3rdparty/ElasticRods/python')\n",
    "\n",
    "import elastic_rods, elastic_knots\n",
    "from linkage_vis import LinkageViewer as Viewer\n",
    "import numpy as np, matplotlib.pyplot as plt, matplotlib, os, json\n",
    "from copy import copy\n",
    "\n",
    "from helpers import *\n",
    "\n",
    "%load_ext autoreload\n",
    "%autoreload 2"
   ]
  },
  {
   "cell_type": "code",
   "execution_count": null,
   "id": "68eac893-2ef6-4eb0-bac2-1021ec887183",
   "metadata": {},
   "outputs": [],
   "source": [
    "# Download the sample dataset (equilibrium states of knots with up to 9 crossings)\n",
    "download_data(\n",
    "    gdrive_id='1yNpBlNuIau2DtOnOebVtEI043_cvk7yZ',\n",
    "    output_dir='../data/',\n",
    "    filename='L400-r0.2-UpTo9Crossings.zip'\n",
    ")"
   ]
  },
  {
   "cell_type": "markdown",
   "id": "7b209c9a-1d6d-4e5a-acd3-240953bc71ca",
   "metadata": {},
   "source": [
    "# Clustering"
   ]
  },
  {
   "cell_type": "code",
   "execution_count": null,
   "id": "83e9b86e-6909-4d8c-b3d1-fd2a43c8353c",
   "metadata": {},
   "outputs": [],
   "source": [
    "# Load the equilibrium states of a given knot type\n",
    "knot_type = '6_2'   # <----- select a knot type\n",
    "\n",
    "root_dir = '../data/L400-r0.2-UpTo9Crossings/'\n",
    "rod_radius = 0.2\n",
    "\n",
    "data_path = root_dir + '{}/'.format(knot_type)\n",
    "objs = [f for f in sorted_nicely(os.listdir(data_path)) if f.endswith('.obj')]\n",
    "n = len(objs)\n",
    "material = elastic_rods.RodMaterial('ellipse', 2000, 0.3, [rod_radius, rod_radius])\n",
    "rods = []\n",
    "for obj in objs:\n",
    "    pts = read_nodes_from_file(data_path + obj)\n",
    "    pts_aligned = align_point_cloud_principal_components_to_axes(pts)  # align to coordinate axes to facilitate visualization\n",
    "    pr = define_periodic_rod(pts_aligned, material, minimize_twist=True)\n",
    "    rods.append(pr)"
   ]
  },
  {
   "cell_type": "code",
   "execution_count": null,
   "id": "e7b2ec3e-15a5-4386-ad50-3ca7bd372829",
   "metadata": {},
   "outputs": [],
   "source": [
    "# Visulize the equilibria\n",
    "rod_list = build_regular_grid(pc_aligned_rods)\n",
    "\n",
    "view = Viewer(rod_list, width=1024, height=640)\n",
    "color_rods(view, rod_list, color_metric='curvature')\n",
    "view.show()"
   ]
  },
  {
   "cell_type": "code",
   "execution_count": null,
   "id": "7452ce2a-7661-43db-9712-3ca8ae609931",
   "metadata": {},
   "outputs": [],
   "source": [
    "# Compute the similarity matrix\n",
    "M = compute_similarity_matrix(rods)\n",
    "\n",
    "fig, ax = plt.subplots(figsize=(6, 6))\n",
    "matshow_data = ax.matshow(M, cmap='Blues')\n",
    "fig.colorbar(matshow_data, ax=ax, location='right', shrink=0.7)\n",
    "ax.set_title('Similarity Matrix')\n",
    "plt.show()"
   ]
  },
  {
   "cell_type": "code",
   "execution_count": null,
   "id": "8b676ff5-9b48-48d5-8565-812377a65e74",
   "metadata": {},
   "outputs": [],
   "source": [
    "# Compute the clusters' hierarchy (dendrogram) using a default cutoff similarity threshold at 0.5\n",
    "eq_clusters, Z, cuts, cut_thresh, dn = hierarchical_clustering_from_similarity_matrix(M, cut_thresh=0.5)\n",
    "print(\"{} clusters detected with cutting threshold = 0.5\".format(len(eq_clusters)))"
   ]
  },
  {
   "cell_type": "code",
   "execution_count": null,
   "id": "61cfc46c-325f-4eda-acb1-3988928dd73c",
   "metadata": {},
   "outputs": [],
   "source": [
    "# Permute similarity matrix's rows to display clusters as diagonal blocks\n",
    "sorted_leaves = dn['leaves']\n",
    "\n",
    "P = np.zeros_like(M)\n",
    "for i in range(n):\n",
    "    P[i, sorted_leaves[i]] = 1.0\n",
    "M_dendro = P @ M @ P.T\n",
    "\n",
    "# Plot permute similarity matrix\n",
    "fig, ax = plt.subplots(figsize=(6, 6))\n",
    "matshow_data = ax.matshow(M_dendro, cmap='Blues')\n",
    "fig.colorbar(matshow_data, ax=ax, location='right', shrink=0.7)\n",
    "ax.set_title('Similarity Matrix')\n",
    "\n",
    "# Plot squares around blocks representing clusters\n",
    "n_clust = len(eq_clusters)\n",
    "i_top_left = 0\n",
    "for ci in range(n_clust):\n",
    "    ci_size = len(eq_clusters[ci])\n",
    "    i_bott_right = i_top_left + ci_size - 1\n",
    "\n",
    "    # Plot squares\n",
    "    m = i_top_left - 0.4\n",
    "    L = i_bott_right - i_top_left + 0.8\n",
    "    color = 'C1'\n",
    "    linewidth = 4\n",
    "    rectangle = plt.Rectangle([m, m], L, L, fc='none', ec=color, linewidth=linewidth)\n",
    "    ax.add_patch(rectangle)\n",
    "    i_top_left += ci_size\n",
    "\n",
    "plt.show()"
   ]
  },
  {
   "cell_type": "markdown",
   "id": "155b95ea-1aa6-44c9-8e85-d0e650b46d11",
   "metadata": {},
   "source": [
    "<a id='sec:interact'></a>\n",
    "### Interactively select the best cutting threshold"
   ]
  },
  {
   "cell_type": "code",
   "execution_count": null,
   "id": "98fd0ddd-7002-4185-832e-669106fdd56a",
   "metadata": {},
   "outputs": [],
   "source": [
    "import ipywidgets as widgets\n",
    "from ipywidgets import Layout\n",
    "%matplotlib inline"
   ]
  },
  {
   "cell_type": "markdown",
   "id": "f873b456-78c9-46cd-8998-8e903fdbaf3f",
   "metadata": {},
   "source": [
    "Select the desired cutting threshold using the slider in the next cell below. \n",
    "\n",
    "Once the orange squares in the similarity matrix well approximate the underlying blue blocks, move to the next cells to compute the corresponding clusters.\n",
    "\n",
    "(For example, for the `6_2` knot in the demo cutting the dendrogram at ~0.71 gives the best clustering results, as can be verified by visually inspecting the clusters in the [next section](#sec:vis))"
   ]
  },
  {
   "cell_type": "code",
   "execution_count": null,
   "id": "a56e7bf9-276a-44e2-b05d-2ca26b643781",
   "metadata": {},
   "outputs": [],
   "source": [
    "# from helpers_results_local import plot_dendrogram_and_clusters\n",
    "\n",
    "# Compute mid cuts to plot horizontal threshold in an unambiguous way\n",
    "mid_cuts = np.zeros_like(cuts)\n",
    "mid_cuts[1::] = (cuts + np.roll(cuts, 1))[1::] / 2\n",
    "mid_cuts[-1] = 1.0\n",
    "\n",
    "# Set the initial cutting threshold to the minimum value (atomic clusters)\n",
    "cut_thresh = 0  \n",
    "user_cut = cut_thresh\n",
    "\n",
    "@widgets.interact(\n",
    "    M=widgets.fixed(M_dendro),\n",
    "    cut_thresh=widgets.SelectionSlider(\n",
    "        value=cut_thresh, \n",
    "        description='Cut', \n",
    "        options=mid_cuts, \n",
    "        style={'description_width': 'initial'},\n",
    "        layout=Layout(width='900px')\n",
    "    )\n",
    ")\n",
    "def tune_clustering(M, cut_thresh=cut_thresh):\n",
    "    global user_cut\n",
    "    user_cut = plot_dendrogram_and_clusters(M, cut_thresh)"
   ]
  },
  {
   "cell_type": "code",
   "execution_count": null,
   "id": "1c8ed1db-8f27-4d3c-a75e-093ab12e7da8",
   "metadata": {},
   "outputs": [],
   "source": [
    "# Compute clusters using the user-defined cut\n",
    "if user_cut == 0:\n",
    "    raise ValueError('Please select a cutting threshold > 0 in the previous cell.')\n",
    "\n",
    "eq_clusters = get_clusters_from_cut_tree(Z, user_cut, sorted_leaves)\n",
    "print(\"{} clusters detected with cutting threshold = {}\".format(len(eq_clusters), user_cut))"
   ]
  },
  {
   "cell_type": "markdown",
   "id": "ad7defd2-181d-4b68-9077-6df1e0a57069",
   "metadata": {},
   "source": [
    "<a id='sec:vis'></a>\n",
    "### Visualize the clusters corresponding to the selected cutting threshold"
   ]
  },
  {
   "cell_type": "code",
   "execution_count": null,
   "id": "5e4a4941-a373-460b-9e3b-496964ef8586",
   "metadata": {},
   "outputs": [],
   "source": [
    "# Visualise clustered equilibrium types with color coded curvature \n",
    "# from helpers_results_local import build_clustered_grid\n",
    "\n",
    "rod_list = build_clustered_grid(pc_aligned_rods, eq_clusters)\n",
    "\n",
    "view_clustered = Viewer(rod_list, width=1024, height=640)\n",
    "color_rods(view_clustered, rod_list, color_metric='curvature')\n",
    "view_clustered.show()"
   ]
  },
  {
   "cell_type": "code",
   "execution_count": null,
   "id": "b1c018e6-9c99-4239-bd00-3c93f37fbfd4",
   "metadata": {},
   "outputs": [],
   "source": []
  }
 ],
 "metadata": {
  "kernelspec": {
   "display_name": "Python 3",
   "language": "python",
   "name": "python3"
  },
  "language_info": {
   "codemirror_mode": {
    "name": "ipython",
    "version": 3
   },
   "file_extension": ".py",
   "mimetype": "text/x-python",
   "name": "python",
   "nbconvert_exporter": "python",
   "pygments_lexer": "ipython3",
   "version": "3.10.4"
  }
 },
 "nbformat": 4,
 "nbformat_minor": 5
}
