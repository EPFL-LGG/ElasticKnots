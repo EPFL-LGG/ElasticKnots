{
 "cells": [
  {
   "cell_type": "code",
   "execution_count": null,
   "metadata": {},
   "outputs": [],
   "source": [
    "import sys; sys.path.append('../3rdparty/ElasticRods/python')\n",
    "import elastic_rods, scipy, numpy as np, time, matplotlib, matplotlib.pyplot as plt\n",
    "\n",
    "import finite_diff\n",
    "from linkage_vis import LinkageViewer as Viewer\n",
    "from helpers import define_periodic_rod, define_periodic_circle, color_rods\n",
    "\n",
    "%load_ext autoreload\n",
    "%autoreload 2"
   ]
  },
  {
   "cell_type": "markdown",
   "metadata": {},
   "source": [
    " - [Test a single `PeriodicRod`](#sec:periodic_rod)\n",
    " - [Test `PeriodicRod`s with contacts](#sec:periodic_rods_with_contacts)"
   ]
  },
  {
   "cell_type": "markdown",
   "metadata": {},
   "source": [
    "----"
   ]
  },
  {
   "cell_type": "markdown",
   "metadata": {},
   "source": [
    "<a id='sec:periodic_rod'></a>\n",
    "# Test a single `PeriodicRod`"
   ]
  },
  {
   "cell_type": "code",
   "execution_count": null,
   "metadata": {},
   "outputs": [],
   "source": [
    "# Define PeriodicRod\n",
    "r = 1\n",
    "rod_radius = 0.1\n",
    "z_noise = 1e-2*r\n",
    "totOpenAngle = 1e-1\n",
    "material = elastic_rods.RodMaterial('ellipse', 2000, 0.3, [rod_radius, rod_radius])\n",
    "pr = define_periodic_circle(npts=6, material=material, r=r, z_noise=z_noise)\n",
    "pr.totalOpeningAngle = totOpenAngle\n",
    "npts = pr.numVertices()"
   ]
  },
  {
   "cell_type": "code",
   "execution_count": null,
   "metadata": {},
   "outputs": [],
   "source": [
    "view = Viewer(pr, width=640, height=480)\n",
    "view.show()"
   ]
  },
  {
   "cell_type": "markdown",
   "metadata": {
    "tags": []
   },
   "source": [
    "### Test gradient and Hessian"
   ]
  },
  {
   "cell_type": "code",
   "execution_count": null,
   "metadata": {},
   "outputs": [],
   "source": [
    "seed = 0\n",
    "np.random.seed(seed)\n",
    "direction = np.random.uniform(-1, 1, pr.numDoF())"
   ]
  },
  {
   "cell_type": "code",
   "execution_count": null,
   "metadata": {},
   "outputs": [],
   "source": [
    "finite_diff.gradient_convergence_plot(pr, direction=direction)"
   ]
  },
  {
   "cell_type": "code",
   "execution_count": null,
   "metadata": {},
   "outputs": [],
   "source": [
    "finite_diff.hessian_convergence_plot(pr, direction=direction)"
   ]
  },
  {
   "cell_type": "markdown",
   "metadata": {},
   "source": [
    "<a id='sec:periodic_rods_with_contacts'></a>\n",
    "# Test `PeriodicRod`s with contacts"
   ]
  },
  {
   "cell_type": "code",
   "execution_count": null,
   "metadata": {},
   "outputs": [],
   "source": [
    "import elastic_knots"
   ]
  },
  {
   "cell_type": "code",
   "execution_count": null,
   "metadata": {},
   "outputs": [],
   "source": [
    "# Define rods\n",
    "r = 1\n",
    "rod_radius = 0.1\n",
    "z_noise = 1e-2*r\n",
    "totOpenAngle = 1e-1\n",
    "material = elastic_rods.RodMaterial('ellipse', 2000, 0.3, [rod_radius, rod_radius])\n",
    "pr0 = define_periodic_circle(npts=6, material=material, r=r, z_noise=z_noise)\n",
    "pr1 = define_periodic_circle(npts=10, material=material, r=r, translation=np.array([0.8*r, 0, 2*rod_radius]), z_noise=z_noise)\n",
    "pr0.totalOpeningAngle = totOpenAngle\n",
    "pr1.totalOpeningAngle = totOpenAngle\n",
    "rod_list = elastic_knots.PeriodicRodList([pr0, pr1])\n",
    "npts = rod_list.numVertices()"
   ]
  },
  {
   "cell_type": "code",
   "execution_count": null,
   "metadata": {},
   "outputs": [],
   "source": [
    "# Define problem\n",
    "problemOptions = elastic_knots.ContactProblemOptions()\n",
    "problemOptions.dHat = 2.5*rod_radius  # use a slightly larger collision distance to detect a few more contacts in this test\n",
    "\n",
    "problem = elastic_knots.ContactProblem(rod_list, problemOptions)\n",
    "\n",
    "softConstraints = [\n",
    "    elastic_knots.FlatnessConstraint(stiffness=1, n=[1, 2, 3], center=[0.1, 0.3, 0.5], upper_d=0.2, lower_d=0.1),\n",
    "    elastic_knots.SphericalShellConstraint(stiffness=1, center=[0.1, 0.3, 0.5], upper_d=0.002, lower_d=0.001),\n",
    "    elastic_knots.VolumeConstraint(stiffness=1, aspectRatio=[1, 4, 7]),\n",
    "]\n",
    "problem.addSoftConstraints(softConstraints)\n",
    "\n",
    "problem.updateConstraintSet()"
   ]
  },
  {
   "cell_type": "code",
   "execution_count": null,
   "metadata": {},
   "outputs": [],
   "source": [
    "viewRods = Viewer(rod_list, width=640, height=480)\n",
    "viewRods.setCameraParams(\n",
    "    ((-0.056120199599739524, -3.688911554799623, 3.374726961409275),\n",
    "     (-0.011812746465884814, 0.6750386414570663, 0.7376878008756365),\n",
    "     (0.0, 0.0, 0.0))\n",
    ")\n",
    "viewRods.show()"
   ]
  },
  {
   "cell_type": "code",
   "execution_count": null,
   "metadata": {},
   "outputs": [],
   "source": [
    "color_rods(viewRods, rod_list)   # dark blue and dark red represent the first and last edges of each rod, respectively"
   ]
  },
  {
   "cell_type": "markdown",
   "metadata": {
    "tags": []
   },
   "source": [
    "### Test gradient and Hessian"
   ]
  },
  {
   "cell_type": "code",
   "execution_count": null,
   "metadata": {},
   "outputs": [],
   "source": [
    "seed = 0\n",
    "np.random.seed(seed)\n",
    "direction = np.random.uniform(-1, 1, problem.numVars())"
   ]
  },
  {
   "cell_type": "code",
   "execution_count": null,
   "metadata": {},
   "outputs": [],
   "source": [
    "finite_diff.gradient_convergence_plot(problem, direction=direction)"
   ]
  },
  {
   "cell_type": "code",
   "execution_count": null,
   "metadata": {},
   "outputs": [],
   "source": [
    "finite_diff.hessian_convergence_plot(problem, direction=direction)"
   ]
  },
  {
   "cell_type": "markdown",
   "metadata": {},
   "source": [
    "### Visualize Hessian sparsity pattern"
   ]
  },
  {
   "cell_type": "code",
   "execution_count": null,
   "metadata": {},
   "outputs": [],
   "source": [
    "hessian_pr0 = pr0.hessianSparsityPattern(1.0).toSciPy()\n",
    "hessian_pr1 = pr1.hessianSparsityPattern(1.0).toSciPy()\n",
    "hessian_prob = problem.hessianSparsityPattern().toSciPy()  # problem's hessian, includes contacts\n",
    "hessian_prob.data[:] = 1  # fill with ones\n",
    "\n",
    "# South-East shift rod 1\n",
    "from scipy.sparse import csr_matrix\n",
    "nv = problem.numVars()\n",
    "mat = np.zeros((nv, nv))\n",
    "upperLeft = rod_list.firstGlobalDofIndexInRod(1)\n",
    "lowerRight = upperLeft + rod_list.numDoFInRod(1)\n",
    "mat[upperLeft:lowerRight, upperLeft:lowerRight] = hessian_pr1.todense()\n",
    "hessian_pr1 = csr_matrix(mat)\n",
    "\n",
    "fig, ax = plt.subplots(figsize=(10, 10))\n",
    "ax.spy(hessian_pr0,    **{'c': 'C0',  'ms': 5, 'label': 'Rod 0'})\n",
    "ax.spy(hessian_pr1,    **{'c': 'C2',  'ms': 5, 'label': 'Rod 1'})\n",
    "ax.spy(hessian_prob, **{'c': 'k',   'ms': 1, 'label': 'Problem'})\n",
    "ax.legend()\n",
    "ax.set_title('Hessian sparsity pattern')\n",
    "\n",
    "plt.show()"
   ]
  },
  {
   "cell_type": "code",
   "execution_count": null,
   "metadata": {},
   "outputs": [],
   "source": []
  }
 ],
 "metadata": {
  "kernelspec": {
   "display_name": "Python 3",
   "language": "python",
   "name": "python3"
  },
  "language_info": {
   "codemirror_mode": {
    "name": "ipython",
    "version": 3
   },
   "file_extension": ".py",
   "mimetype": "text/x-python",
   "name": "python",
   "nbconvert_exporter": "python",
   "pygments_lexer": "ipython3",
   "version": "3.10.4"
  }
 },
 "nbformat": 4,
 "nbformat_minor": 4
}
